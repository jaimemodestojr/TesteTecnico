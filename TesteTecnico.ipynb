{
 "cells": [
  {
   "cell_type": "markdown",
   "id": "e8892934",
   "metadata": {},
   "source": [
    "1) Desenvolva um script em python para retornar o primeiro valor não repetido de uma string.\n",
    "\n",
    "Exemplo:\n",
    "input -> 'teste'\n",
    "output -> 's'\n",
    "input -> 'engenharia de dados'\n",
    "output -> 'g'"
   ]
  },
  {
   "cell_type": "code",
   "execution_count": 16,
   "id": "ee75bd12",
   "metadata": {},
   "outputs": [
    {
     "name": "stdout",
     "output_type": "stream",
     "text": [
      "Digite uma palavra ou frase aqui: arranjado\n",
      "n\n"
     ]
    }
   ],
   "source": [
    "# Primeiramente, foi criada uma função, que será chamada mais tarde\n",
    "# Essa função tem por responsabilidade percorrer toda a string e diferenciar as letras na dada palavra ou frase inserida e,\n",
    "#por fim, acusar àquela primeira que não possui repetição\n",
    "\n",
    "# Caso só existam letras que possuem repetição, a função retornará que não existem palavras ou letras únicas, isto é, \n",
    "#sem repetição, na palavra ou frase inserida.\n",
    "\n",
    "def first_letter_without_repetition(string):\n",
    "    letters_order = []\n",
    "    counting = {}\n",
    "    for i in string:\n",
    "        if i in counting:\n",
    "            counting[i] += 1\n",
    "        else:\n",
    "            counting[i] = 1\n",
    "            letters_order.append(i)\n",
    "    for i in letters_order:\n",
    "        if counting[i] == 1:\n",
    "            return i\n",
    "    return (\"Não há letras únicas, isto é, sem repetição, na palavra ou frase inserida.\")\n",
    "\n",
    "# Agora, chama-se a função first_letter_without_repetition, ao mesmo tempo que se pede ao usuário que insira uma palavra \n",
    "#ou frase e, para o caso do mesmo inserir um número, str converte imediatamente o mesmo para string\n",
    "# Também colocasse o .lower() para minimizar todas as letras inseridas pelo usuário, para que o script considere todas\n",
    "#as letras igualmente, pois o Python é case sensitive\n",
    "\n",
    "print(first_letter_without_repetition(input(\"Digite uma palavra ou frase aqui: \")))"
   ]
  },
  {
   "cell_type": "markdown",
   "id": "dddc5ded",
   "metadata": {},
   "source": [
    "2) O conjunto de dados flor Íris ou conjunto de dados Íris de Fisher é um conjunto de dados multivariados introduzido pelo estatístico e biólogo britânico Ronald Fisher em seu artigo de 1936. Desenvolva um script em python para encontrar a média do petal_length de cada espécie presente no dataset. Utilize a função pd.read_csv() para baixar o conteúdo disponível na url https://raw.githubusercontent.com/mwaskom/seaborn-data/master/iris.csv"
   ]
  },
  {
   "cell_type": "code",
   "execution_count": 12,
   "id": "2fc48441",
   "metadata": {},
   "outputs": [],
   "source": [
    "# Primeiro, importaremos as bibliotecas necessárias para o script\n",
    "import pandas as pd\n",
    "import numpy as np"
   ]
  },
  {
   "cell_type": "code",
   "execution_count": 13,
   "id": "b848a0d2",
   "metadata": {},
   "outputs": [
    {
     "name": "stdout",
     "output_type": "stream",
     "text": [
      "     sepal_length  sepal_width  petal_length  petal_width    species\n",
      "0             5.1          3.5           1.4          0.2     setosa\n",
      "1             4.9          3.0           1.4          0.2     setosa\n",
      "2             4.7          3.2           1.3          0.2     setosa\n",
      "3             4.6          3.1           1.5          0.2     setosa\n",
      "4             5.0          3.6           1.4          0.2     setosa\n",
      "..            ...          ...           ...          ...        ...\n",
      "145           6.7          3.0           5.2          2.3  virginica\n",
      "146           6.3          2.5           5.0          1.9  virginica\n",
      "147           6.5          3.0           5.2          2.0  virginica\n",
      "148           6.2          3.4           5.4          2.3  virginica\n",
      "149           5.9          3.0           5.1          1.8  virginica\n",
      "\n",
      "[150 rows x 5 columns]\n",
      "{'setosa', 'virginica', 'versicolor'}\n",
      "3\n",
      "       sepal_length  sepal_width  petal_length  petal_width\n",
      "count    150.000000   150.000000    150.000000   150.000000\n",
      "mean       5.843333     3.057333      3.758000     1.199333\n",
      "std        0.828066     0.435866      1.765298     0.762238\n",
      "min        4.300000     2.000000      1.000000     0.100000\n",
      "25%        5.100000     2.800000      1.600000     0.300000\n",
      "50%        5.800000     3.000000      4.350000     1.300000\n",
      "75%        6.400000     3.300000      5.100000     1.800000\n",
      "max        7.900000     4.400000      6.900000     2.500000\n"
     ]
    },
    {
     "data": {
      "text/html": [
       "<div>\n",
       "<style scoped>\n",
       "    .dataframe tbody tr th:only-of-type {\n",
       "        vertical-align: middle;\n",
       "    }\n",
       "\n",
       "    .dataframe tbody tr th {\n",
       "        vertical-align: top;\n",
       "    }\n",
       "\n",
       "    .dataframe thead tr th {\n",
       "        text-align: left;\n",
       "    }\n",
       "\n",
       "    .dataframe thead tr:last-of-type th {\n",
       "        text-align: right;\n",
       "    }\n",
       "</style>\n",
       "<table border=\"1\" class=\"dataframe\">\n",
       "  <thead>\n",
       "    <tr>\n",
       "      <th></th>\n",
       "      <th>sepal_length</th>\n",
       "      <th>sepal_width</th>\n",
       "      <th>petal_length</th>\n",
       "      <th>petal_width</th>\n",
       "    </tr>\n",
       "    <tr>\n",
       "      <th></th>\n",
       "      <th>mean</th>\n",
       "      <th>mean</th>\n",
       "      <th>mean</th>\n",
       "      <th>mean</th>\n",
       "    </tr>\n",
       "    <tr>\n",
       "      <th>species</th>\n",
       "      <th></th>\n",
       "      <th></th>\n",
       "      <th></th>\n",
       "      <th></th>\n",
       "    </tr>\n",
       "  </thead>\n",
       "  <tbody>\n",
       "    <tr>\n",
       "      <th>setosa</th>\n",
       "      <td>5.006</td>\n",
       "      <td>3.428</td>\n",
       "      <td>1.462</td>\n",
       "      <td>0.246</td>\n",
       "    </tr>\n",
       "    <tr>\n",
       "      <th>versicolor</th>\n",
       "      <td>5.936</td>\n",
       "      <td>2.770</td>\n",
       "      <td>4.260</td>\n",
       "      <td>1.326</td>\n",
       "    </tr>\n",
       "    <tr>\n",
       "      <th>virginica</th>\n",
       "      <td>6.588</td>\n",
       "      <td>2.974</td>\n",
       "      <td>5.552</td>\n",
       "      <td>2.026</td>\n",
       "    </tr>\n",
       "  </tbody>\n",
       "</table>\n",
       "</div>"
      ],
      "text/plain": [
       "           sepal_length sepal_width petal_length petal_width\n",
       "                   mean        mean         mean        mean\n",
       "species                                                     \n",
       "setosa            5.006       3.428        1.462       0.246\n",
       "versicolor        5.936       2.770        4.260       1.326\n",
       "virginica         6.588       2.974        5.552       2.026"
      ]
     },
     "execution_count": 13,
     "metadata": {},
     "output_type": "execute_result"
    }
   ],
   "source": [
    "# Usaremos a biblioteca pandas para importarmos o dataset, em csv, para o nosso script\n",
    "flowers = pd.read_csv(\"https://raw.githubusercontent.com/mwaskom/seaborn-data/master/iris.csv\")\n",
    "\n",
    "print(flowers)\n",
    "\n",
    "# Agora, separemos as espécies em um set separado, apenas para conferir quantas espécies diferentes existem no dataset, apenas para fins de análise e conferência\n",
    "species = set(flowers.species)\n",
    "\n",
    "print(species)\n",
    "\n",
    "number_of_species = len(set(flowers.species))\n",
    "\n",
    "print(number_of_species)\n",
    "\n",
    "# Agora, utilizaremos o summary, da biblioteca numpy, para mostrarmos um apanhado estatístico geral do dataset\n",
    "summary = flowers.describe()\n",
    "\n",
    "print(summary)\n",
    "\n",
    "# Agora, finalmente, agrupados o dataset nas 3 espécies vistas anteriormente e calculamos a média de suas colunas, incluindo a requisitada petal_length\n",
    "flowers.groupby(\"species\").agg([\"mean\"])"
   ]
  },
  {
   "cell_type": "code",
   "execution_count": null,
   "id": "a5e20aad",
   "metadata": {},
   "outputs": [],
   "source": []
  }
 ],
 "metadata": {
  "kernelspec": {
   "display_name": "Python 3",
   "language": "python",
   "name": "python3"
  },
  "language_info": {
   "codemirror_mode": {
    "name": "ipython",
    "version": 3
   },
   "file_extension": ".py",
   "mimetype": "text/x-python",
   "name": "python",
   "nbconvert_exporter": "python",
   "pygments_lexer": "ipython3",
   "version": "3.8.8"
  }
 },
 "nbformat": 4,
 "nbformat_minor": 5
}
